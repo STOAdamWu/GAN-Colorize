{
 "cells": [
  {
   "cell_type": "markdown",
   "metadata": {},
   "source": [
    "# Load data from STL10 "
   ]
  },
  {
   "cell_type": "code",
   "execution_count": null,
   "metadata": {},
   "outputs": [],
   "source": [
    "import torch\n",
    "import matplotlib.pyplot as plt\n",
    "import torchvision.datasets as dset\n",
    "import torchvision\n",
    "import numpy as np\n",
    "from Dataset import STL10_Relabel\n",
    "\n",
    "%load_ext autoreload\n",
    "%autoreload 2\n",
    "\n",
    "%matplotlib inline\n",
    "\n",
    "n = 4\n",
    "\n",
    "dataset = STL10_Relabel()\n",
    "print(dataset)\n",
    "trainsubset = torch.utils.data.Subset(dataset, np.random.choice(len(dataset), n**2, replace=False))"
   ]
  },
  {
   "cell_type": "markdown",
   "metadata": {},
   "source": [
    "# Visulize dataset"
   ]
  },
  {
   "cell_type": "code",
   "execution_count": null,
   "metadata": {},
   "outputs": [],
   "source": [
    "from visualize import Datavisualize\n",
    "\n",
    "T = torchvision.transforms.Compose([torchvision.transforms.ToPILImage(),torchvision.transforms.Grayscale(),torchvision.transforms.ToTensor()])\n",
    "Datavisualize(n, trainsubset, title = 'Orginal', datapos = 1)"
   ]
  },
  {
   "cell_type": "code",
   "execution_count": null,
   "metadata": {},
   "outputs": [],
   "source": [
    "Datavisualize(n, trainsubset, title = 'Grayscale', cmap = 'gray')"
   ]
  },
  {
   "cell_type": "markdown",
   "metadata": {},
   "source": [
    "# Visulize Initial Model\n",
    "Colorizer should output a gray image  \n",
    "Discriminator should output a tensor with shape [1,2]"
   ]
  },
  {
   "cell_type": "code",
   "execution_count": null,
   "metadata": {},
   "outputs": [],
   "source": [
    "from Dataset import RandomSet\n",
    "\n",
    "testset = RandomSet()"
   ]
  },
  {
   "cell_type": "code",
   "execution_count": null,
   "metadata": {},
   "outputs": [],
   "source": [
    "from model import Colorizer, Discriminator\n",
    "from visualize import compare\n",
    "mG = Colorizer()\n",
    "mD = Discriminator()\n",
    "\n",
    "compare(n, testset, mG)"
   ]
  },
  {
   "cell_type": "code",
   "execution_count": null,
   "metadata": {},
   "outputs": [],
   "source": [
    "example = testset.__getitem__(0)[0]\n",
    "example = mG(T(example).unsqueeze(0))\n",
    "print(mD(example))"
   ]
  },
  {
   "cell_type": "markdown",
   "metadata": {},
   "source": [
    "# Pretrain Colorizer with orginal image"
   ]
  },
  {
   "cell_type": "code",
   "execution_count": null,
   "metadata": {},
   "outputs": [],
   "source": [
    "from Trainer import Trainer\n",
    "tr = Trainer(mG, mD, dataset)\n",
    "tr.pretrain(0)"
   ]
  },
  {
   "cell_type": "markdown",
   "metadata": {},
   "source": [
    "## Now check how well the pretrian does"
   ]
  },
  {
   "cell_type": "code",
   "execution_count": null,
   "metadata": {},
   "outputs": [],
   "source": [
    "mG.cpu()\n",
    "compare(n, testset, mG)"
   ]
  },
  {
   "cell_type": "markdown",
   "metadata": {},
   "source": [
    "# Use GAN to make colorizer output become more realistic"
   ]
  },
  {
   "cell_type": "code",
   "execution_count": null,
   "metadata": {},
   "outputs": [],
   "source": [
    "G_loss, D_loss_real, D_loss_fake = tr.train(1)"
   ]
  },
  {
   "cell_type": "code",
   "execution_count": null,
   "metadata": {},
   "outputs": [],
   "source": [
    "fig, ax = plt.subplots()\n",
    "xG = np.arange(len(G_loss))\n",
    "xD = np.arange(len(D_loss_real))*(len(G_loss)/len(D_loss_real))\n",
    "ax.plot(xG, G_loss, label = 'G_loss')\n",
    "ax.plot(xD, D_loss_real, label = 'D_loss_real')\n",
    "ax.plot(xD, D_loss_fake, label = 'D_loss_fake')\n",
    "ax.set_xlabel('times')\n",
    "ax.set_ylabel('loss')\n",
    "ax.legend()\n",
    "plt.show()"
   ]
  },
  {
   "cell_type": "markdown",
   "metadata": {},
   "source": [
    "## Now check if GAN make things looks better"
   ]
  },
  {
   "cell_type": "code",
   "execution_count": null,
   "metadata": {},
   "outputs": [],
   "source": [
    "mG.cpu()\n",
    "compare(n, testset, mG)"
   ]
  },
  {
   "cell_type": "code",
   "execution_count": null,
   "metadata": {},
   "outputs": [],
   "source": []
  }
 ],
 "metadata": {
  "kernelspec": {
   "display_name": "Python 3",
   "language": "python",
   "name": "python3"
  },
  "language_info": {
   "codemirror_mode": {
    "name": "ipython",
    "version": 3
   },
   "file_extension": ".py",
   "mimetype": "text/x-python",
   "name": "python",
   "nbconvert_exporter": "python",
   "pygments_lexer": "ipython3",
   "version": "3.8.3"
  }
 },
 "nbformat": 4,
 "nbformat_minor": 4
}
